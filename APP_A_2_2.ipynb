{
  "nbformat": 4,
  "nbformat_minor": 0,
  "metadata": {
    "colab": {
      "name": "APP A 2.2.ipynb",
      "provenance": [],
      "authorship_tag": "ABX9TyNu2UyTFhFOkUw0ph99/gAS",
      "include_colab_link": true
    },
    "kernelspec": {
      "name": "python3",
      "display_name": "Python 3"
    },
    "language_info": {
      "name": "python"
    }
  },
  "cells": [
    {
      "cell_type": "markdown",
      "metadata": {
        "id": "view-in-github",
        "colab_type": "text"
      },
      "source": [
        "<a href=\"https://colab.research.google.com/github/Simar040703K/MyCaptain-Class-Ass/blob/main/APP_A_2_2.ipynb\" target=\"_parent\"><img src=\"https://colab.research.google.com/assets/colab-badge.svg\" alt=\"Open In Colab\"/></a>"
      ]
    },
    {
      "cell_type": "code",
      "execution_count": null,
      "metadata": {
        "id": "xrgItUiGTH4-"
      },
      "outputs": [],
      "source": [
        "# MyCaptain APP ASSIGNMENT\n",
        "#Q2: WRITE A PYTHON PROGRAM TO PRINT ALL THE POSITIVE NUMBERS IN A RANGE.\n",
        "'''\n",
        "l1=[12,-7,5,64,-14]\n",
        "for number in l1:\n",
        "  if (number>0):\n",
        "    print(number)\n",
        "  else:\n",
        "    continue\n",
        "\n",
        "l2=[12,14,-95,3]\n",
        "for number in l2:\n",
        "  if (number>0):\n",
        "    print(number)\n",
        "  else:\n",
        "    continue\n",
        "'''\n",
        "l3=[12,23,-34,-45,50,-100,-45]\n",
        "for number in l3:\n",
        "  if (number>0):\n",
        "    print(number)\n",
        "  else:\n",
        "    continue"
      ]
    }
  ]
}