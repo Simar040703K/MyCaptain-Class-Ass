{
  "nbformat": 4,
  "nbformat_minor": 0,
  "metadata": {
    "colab": {
      "name": "App Project 1.ipynb",
      "provenance": [],
      "authorship_tag": "ABX9TyNcuF3x5qouoMFVniHsGWGG",
      "include_colab_link": true
    },
    "kernelspec": {
      "name": "python3",
      "display_name": "Python 3"
    },
    "language_info": {
      "name": "python"
    }
  },
  "cells": [
    {
      "cell_type": "markdown",
      "metadata": {
        "id": "view-in-github",
        "colab_type": "text"
      },
      "source": [
        "<a href=\"https://colab.research.google.com/github/Simar040703K/MyCaptain-Class-Ass/blob/main/App_Project_1.ipynb\" target=\"_parent\"><img src=\"https://colab.research.google.com/assets/colab-badge.svg\" alt=\"Open In Colab\"/></a>"
      ]
    },
    {
      "cell_type": "code",
      "execution_count": 13,
      "metadata": {
        "colab": {
          "base_uri": "https://localhost:8080/"
        },
        "id": "-gR5ndrI2HOW",
        "outputId": "881d2ff4-19a0-4034-e58c-e273b0e6da1f"
      },
      "outputs": [
        {
          "name": "stdout",
          "output_type": "stream",
          "text": [
            "Enter student #1 information in the patern mentioned (name age contact_no email_id): Simar 18 2434465245 sk@gmail.com\n",
            "\n",
            "The entered information is -\n",
            "Name: Simar\n",
            "Age: 18\n",
            "Contact number: 2434465245\n",
            "Email ID: sk@gmail.com\n",
            "Is the entered information correct? (yes/no): yes\n",
            "Enter (yes/no) if you want to enter information for another student: yes\n",
            "Enter student #2 information in the patern mentioned (name age contact_no email_id): Sameer 12 3424689732 sam@gmail.com\n",
            "\n",
            "The entered information is -\n",
            "Name: Sameer\n",
            "Age: 12\n",
            "Contact number: 3424689732\n",
            "Email ID: sam@gmail.com\n",
            "Is the entered information correct? (yes/no): no\n",
            "Enter student #2 information in the patern mentioned (name age contact_no email_id): Sameer 12 3424689732 samk@gmail.com\n",
            "\n",
            "The entered information is -\n",
            "Name: Sameer\n",
            "Age: 12\n",
            "Contact number: 3424689732\n",
            "Email ID: samk@gmail.com\n",
            "Is the entered information correct? (yes/no): yes\n",
            "Enter (yes/no) if you want to enter information for another student: no\n"
          ]
        }
      ],
      "source": [
        "# SCHOOL ADMINISTRATION TOOL\n",
        "import csv\n",
        "\n",
        "def write_into_csv(info_list):\n",
        "  with open('student_info.csv','a',newline='') as csv_file:\n",
        "    writer=csv.writer(csv_file)\n",
        "\n",
        "    if csv_file.tell()==0:\n",
        "      writer.writerow([\"Name\",\"Age\",\"Contact no\",\"Email ID\"])\n",
        "\n",
        "    writer.writerow(info_list)\n",
        "\n",
        "if __name__=='__main__':\n",
        "  condition=True\n",
        "  student_num=1\n",
        "\n",
        "  while (condition):\n",
        "    student_info=input('Enter student #{} information in the patern mentioned (name age contact_no email_id): '.format(student_num))\n",
        "\n",
        "    #split\n",
        "    student_info_list=student_info.split(' ')\n",
        "\n",
        "    print('\\nThe entered information is -\\nName: {}\\nAge: {}\\nContact number: {}\\nEmail ID: {}'.format(student_info_list[0],student_info_list[1],\n",
        "                                                                                                       student_info_list[2],student_info_list[3]))\n",
        "    \n",
        "    choice_check=input('Is the entered information correct? (yes/no): ')\n",
        "\n",
        "    if choice_check=='yes':\n",
        "      write_into_csv(student_info_list)\n",
        "      condition_check=input('Enter (yes/no) if you want to enter information for another student: ')\n",
        "      if condition_check=='yes':\n",
        "        condition=True\n",
        "        student_num=student_num+1\n",
        "      elif condition_check=='no':\n",
        "        condition=False\n",
        "    elif condition_check=='no':\n",
        "      print('\\nPlease re-enter the values!\\n')\n",
        "\n"
      ]
    }
  ]
}