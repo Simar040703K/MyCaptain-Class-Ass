{
  "nbformat": 4,
  "nbformat_minor": 0,
  "metadata": {
    "colab": {
      "name": "App A 1.ipynb",
      "provenance": [],
      "authorship_tag": "ABX9TyMdRFBWfq/xii4yeI2LusFq",
      "include_colab_link": true
    },
    "kernelspec": {
      "name": "python3",
      "display_name": "Python 3"
    },
    "language_info": {
      "name": "python"
    }
  },
  "cells": [
    {
      "cell_type": "markdown",
      "metadata": {
        "id": "view-in-github",
        "colab_type": "text"
      },
      "source": [
        "<a href=\"https://colab.research.google.com/github/Simar040703K/MyCaptain-Class-Ass/blob/main/App_A_1.ipynb\" target=\"_parent\"><img src=\"https://colab.research.google.com/assets/colab-badge.svg\" alt=\"Open In Colab\"/></a>"
      ]
    },
    {
      "cell_type": "code",
      "execution_count": null,
      "metadata": {
        "id": "Pv8ZeVK5TOfg",
        "colab": {
          "base_uri": "https://localhost:8080/"
        },
        "outputId": "0b9629f4-95e6-48a5-ddc9-81ade032b1c2"
      },
      "outputs": [
        {
          "output_type": "stream",
          "name": "stdout",
          "text": [
            "Enter value for radius of circle : 14\n",
            "Area =  615.44\n"
          ]
        }
      ],
      "source": [
        "# APP ASSIGNMENT 1\n",
        "#Q1: WRITE A PYHTON PROGRAM WHICH ACCEPTS THE RADIUS OF A CIRCLE FROM THE USER AND COMPUTES AREA.\n",
        "r=eval(input('Enter value for radius of circle : '))\n",
        "ar=3.14*r*r;\n",
        "print('Area = ',ar) "
      ]
    },
    {
      "cell_type": "code",
      "source": [
        "#Q2: WRITE A PYTHON PROGRAM TO ACCEPT A FILENAME FROM THE USER AND PRINT THE EXTENSION OF THAT.\n",
        "filename = input('Enter any filename : ')\n",
        "fn = filename.split(\".\")\n",
        "print('Extension of the file is : {}'.format(fn[-1]))\n",
        "print('Python file')"
      ],
      "metadata": {
        "id": "v5iuW7GvzCqx",
        "colab": {
          "base_uri": "https://localhost:8080/"
        },
        "outputId": "3b175408-e5ce-4060-d2b1-186edae18754"
      },
      "execution_count": 17,
      "outputs": [
        {
          "output_type": "stream",
          "name": "stdout",
          "text": [
            "Enter any filename : simar.py\n",
            "Extension of the file is : py\n",
            "Python file\n"
          ]
        }
      ]
    }
  ]
}