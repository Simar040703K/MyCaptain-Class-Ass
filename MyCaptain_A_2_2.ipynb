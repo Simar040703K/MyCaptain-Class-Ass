{
  "nbformat": 4,
  "nbformat_minor": 0,
  "metadata": {
    "colab": {
      "name": "MyCaptain A 2.2.ipynb",
      "provenance": [],
      "authorship_tag": "ABX9TyO23NTrSof7oAIRg1DtbuW9",
      "include_colab_link": true
    },
    "kernelspec": {
      "name": "python3",
      "display_name": "Python 3"
    },
    "language_info": {
      "name": "python"
    }
  },
  "cells": [
    {
      "cell_type": "markdown",
      "metadata": {
        "id": "view-in-github",
        "colab_type": "text"
      },
      "source": [
        "<a href=\"https://colab.research.google.com/github/Simar040703K/MyCaptain-Class-Ass/blob/main/MyCaptain_A_2_2.ipynb\" target=\"_parent\"><img src=\"https://colab.research.google.com/assets/colab-badge.svg\" alt=\"Open In Colab\"/></a>"
      ]
    },
    {
      "cell_type": "code",
      "execution_count": null,
      "metadata": {
        "id": "LeSTw2-08CGJ"
      },
      "outputs": [],
      "source": [
        "# Assignment 2.2 : Live Session 6\n",
        "#Q1: Find what is a step function in for loop. \n",
        "\"\"\"ANSWER:\n",
        "The step() function designs the plot such that, it has a horizontal baseline to which the data points will by vertical lines. This kind of plot is used to analyze at which \n",
        "points the change in Y-axis value has occurred exactly with respect to X-axis. This is very useful in discrete analysis. The step plotting can be combined with any other\n",
        "plots. The occurrence of steps can also be formatted by supplying appropriate parameter values.\"\"\"    "
      ]
    },
    {
      "cell_type": "code",
      "source": [
        "#Q2: Find how to make a For loop infinite.\n",
        "#ANSWER: NOT possible; however, possible using the while loop. "
      ],
      "metadata": {
        "id": "A8Obt_S48iXb"
      },
      "execution_count": null,
      "outputs": []
    },
    {
      "cell_type": "code",
      "source": [
        "#Q3: Figure out how to add values in a Tuple.\n",
        "#ANSWER: We can convert the tuple into a list and then add an element in the list using append() function. Then convert the list back to tuple.\n",
        "t1=('Anxious','Anxiety','Depress')\n",
        "print(t1)\n",
        "y=list(t1)\n",
        "y.append('Psychiatrist')\n",
        "t1=tuple(y)\n",
        "print(t1)"
      ],
      "metadata": {
        "id": "Ri_Glvk68sqe",
        "colab": {
          "base_uri": "https://localhost:8080/"
        },
        "outputId": "f6881460-9be6-40fc-beb2-a3f96845bcad"
      },
      "execution_count": null,
      "outputs": [
        {
          "output_type": "stream",
          "name": "stdout",
          "text": [
            "('Anxious', 'Anxiety', 'Depress')\n",
            "('Anxious', 'Anxiety', 'Depress', 'Psychiatrist')\n"
          ]
        }
      ]
    }
  ]
}