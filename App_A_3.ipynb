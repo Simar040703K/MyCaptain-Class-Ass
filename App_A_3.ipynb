{
  "nbformat": 4,
  "nbformat_minor": 0,
  "metadata": {
    "colab": {
      "name": "App A 3.ipynb",
      "provenance": [],
      "authorship_tag": "ABX9TyMY/pv+exxtpGdoNRusU1lK",
      "include_colab_link": true
    },
    "kernelspec": {
      "name": "python3",
      "display_name": "Python 3"
    },
    "language_info": {
      "name": "python"
    }
  },
  "cells": [
    {
      "cell_type": "markdown",
      "metadata": {
        "id": "view-in-github",
        "colab_type": "text"
      },
      "source": [
        "<a href=\"https://colab.research.google.com/github/Simar040703K/MyCaptain-Class-Ass/blob/main/App_A_3.ipynb\" target=\"_parent\"><img src=\"https://colab.research.google.com/assets/colab-badge.svg\" alt=\"Open In Colab\"/></a>"
      ]
    },
    {
      "cell_type": "code",
      "execution_count": 5,
      "metadata": {
        "colab": {
          "base_uri": "https://localhost:8080/"
        },
        "id": "3Vqtb7h3eLSZ",
        "outputId": "2f7dbf13-6f15-46d0-f430-836d5389106f"
      },
      "outputs": [
        {
          "output_type": "stream",
          "name": "stdout",
          "text": [
            "Enter the string: mississippi\n",
            "Printing string is decreasing order\n",
            "i  =  4\n",
            "s  =  4\n",
            "p  =  2\n",
            "m  =  1\n"
          ]
        }
      ],
      "source": [
        "# WRITE A PYTHON CODE TO CREATE A FUNCTION CALLED MOST_FREQUENT THAT TAKES A STRING AND PRINTS THE LETTERS IN DECREASING ORDER OF FREQUENCY. USE DICTIONARIES.\n",
        "def most_frequent(str,op):\n",
        "  count=1\n",
        "  for i in str:\n",
        "    if i in op:\n",
        "      op[i]=op[i]+1\n",
        "    else:\n",
        "      op[i]=1\n",
        "  print(\"Printing string is decreasing order\")\n",
        "  for i in op:\n",
        "    if op[i]>count:\n",
        "      count=op[i]\n",
        "  while count>0:\n",
        "\n",
        "    for i in op:\n",
        "      if op[i]==count:\n",
        "        print(i,\" = \",op[i])\n",
        "    count=count-1\n",
        "\n",
        "str=input('Enter the string: ')\n",
        "op={}\n",
        "\n",
        "most_frequent(str,op)"
      ]
    }
  ]
}