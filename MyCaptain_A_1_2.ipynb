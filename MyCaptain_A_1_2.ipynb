{
  "nbformat": 4,
  "nbformat_minor": 0,
  "metadata": {
    "colab": {
      "name": "MyCaptain A 1.2.ipynb",
      "provenance": [],
      "authorship_tag": "ABX9TyP5b01M7pOB+SwO+b6Bty6E",
      "include_colab_link": true
    },
    "kernelspec": {
      "name": "python3",
      "display_name": "Python 3"
    },
    "language_info": {
      "name": "python"
    }
  },
  "cells": [
    {
      "cell_type": "markdown",
      "metadata": {
        "id": "view-in-github",
        "colab_type": "text"
      },
      "source": [
        "<a href=\"https://colab.research.google.com/github/Simar040703K/MyCaptain-Class-Ass/blob/main/MyCaptain_A_1_2.ipynb\" target=\"_parent\"><img src=\"https://colab.research.google.com/assets/colab-badge.svg\" alt=\"Open In Colab\"/></a>"
      ]
    },
    {
      "cell_type": "code",
      "execution_count": null,
      "metadata": {
        "colab": {
          "base_uri": "https://localhost:8080/"
        },
        "id": "8ZLvBbnaUdm_",
        "outputId": "4c4a539b-70ab-408a-9faa-bf5b12e8ec5c"
      },
      "outputs": [
        {
          "output_type": "stream",
          "name": "stdout",
          "text": [
            "['Cabbage', 'Cauliflower', 'Onion', 'Potato', 'Ladyfinger', 'Bottlegourd']\n",
            "1\n",
            "['Orange', 'Apple', 'Mango', 'Banana', 'Cabbage', 'Cauliflower', 'Onion', 'Potato', 'Ladyfinger', 'Bottlegourd']\n",
            "0\n",
            "['Cabbage', 'Cauliflower', 'Onion', 'Tomato', 'Potato', 'Ladyfinger', 'Bottlegourd']\n",
            "['Cabbage', 'Cauliflower', 'Onion', 'Tomato', 'Ladyfinger', 'Bottlegourd']\n",
            "['Orange', 'Apple', 'Mango', 'Cabbage', 'Cauliflower', 'Onion', 'Potato', 'Ladyfinger', 'Bottlegourd']\n",
            "['Bottlegourd', 'Ladyfinger', 'Tomato', 'Onion', 'Cauliflower', 'Cabbage']\n",
            "['Apple', 'Bottlegourd', 'Cabbage', 'Cauliflower', 'Ladyfinger', 'Mango', 'Onion', 'Orange', 'Potato']\n"
          ]
        }
      ],
      "source": [
        "# Assignment 1.2 : Live Session 4\n",
        "#Q1: Practice all methods of lists from w3schools.\n",
        "veges=['Cabbage','Cauliflower','Onion','Potato','Ladyfinger']\n",
        "veges.append('Bottlegourd')                                     #1: adds an element to the end of the list\n",
        "print(veges)\n",
        "y=veges.count('Onion')                                          #2: returns the no. of times specified element appears in the list\n",
        "print(y)\n",
        "fruit=['Orange','Apple','Mango','Banana']\n",
        "fruit.extend(veges)                                             #3: adds elements of a list to the current list\n",
        "print(fruit)\n",
        "z=veges.index('Cabbage')                                        #4: returns index value of specified element\n",
        "print(z)\n",
        "veges.insert(3,'Tomato')                                        #5: adds an element to the specified location\n",
        "print(veges)  \n",
        "veges.pop(4)                                                    #6: removes element from speciifed location\n",
        "print(veges)\n",
        "fruit.remove('Banana')                                          #7: removes element from specified index value\n",
        "print(fruit)\n",
        "veges.reverse()                                                 #8: reverses the order of the list\n",
        "print(veges)\n",
        "fruit.sort()                                                    #9: sorts the list\n",
        "print(fruit)\n",
        "veges.clear()                                                   #10: removes all the elements from the list   "
      ]
    },
    {
      "cell_type": "code",
      "source": [
        "#Q2: Practice all the methods of Strings from w3schools.\n",
        "txt = 'hello, and welcome coders!'\n",
        "x = txt.capitalize()                                               #1\n",
        "print(x)\n",
        "y = txt.casefold()                                                 #2 \n",
        "print(y)\n",
        "l1 = 'Strawberry'\n",
        "z = l1.center(15)                                                   #3\n",
        "print(z)\n",
        "l2 = 'I love Switzerland, Switzerland is my favourite place'       \n",
        "x=l2.count('Switzerland')                                           #4\n",
        "print(x)\n",
        "l3='My name is Simar'\n",
        "y=l3.encode()                                                        #5 \n",
        "print(y)\n",
        "z=txt.endswith('!')                                                  #6\n",
        "print(z)\n",
        "l4='H\\te\\tl\\tl\\to'                                                   #7\n",
        "a=l4.expandtabs(5)\n",
        "print(a)\n",
        "x=txt.find(\"hello\")                                                  #8\n",
        "print(x)\n",
        "y=txt.index('coders')                                                #9\n",
        "print(y)\n",
        "z=txt.isdigit()                                                      #10\n",
        "print(z)\n",
        "m=txt.isdecimal()                                                    #11\n",
        "print(m)\n",
        "n=txt.isidentifier()                                                 #12\n",
        "print(n)\n",
        "d=txt.islower()                                                      #13\n",
        "print(d)\n",
        "y=txt.split()                                                        #14\n",
        "print(y)\n",
        "z=l1.strip()                                                        #15\n",
        "print(\"Of all fruits \",z,\" Is my favourite\")\n",
        "z=txt.upper()                                                        #16\n",
        "print(z)\n",
        "y=txt.title()                                                        #17\n",
        "print(y)\n",
        "m=l1.swapcase()                                                     #18\n",
        "print(m) \n",
        "z=l3.zfill(30)                                                      #19\n",
        "print(z)\n",
        "n=txt.startswith('and')                                             #20\n",
        "print(n)"
      ],
      "metadata": {
        "colab": {
          "base_uri": "https://localhost:8080/"
        },
        "id": "eOa-ysTxyrJs",
        "outputId": "485c3780-8064-408a-f2ad-bd897bc0cfdd"
      },
      "execution_count": null,
      "outputs": [
        {
          "output_type": "stream",
          "name": "stdout",
          "text": [
            "Hello, and welcome coders!\n",
            "hello, and welcome coders!\n",
            "   Strawberry  \n",
            "2\n",
            "b'My name is Simar'\n",
            "True\n",
            "H    e    l    l    o\n",
            "0\n",
            "19\n",
            "False\n",
            "False\n",
            "False\n",
            "True\n",
            "['hello,', 'and', 'welcome', 'coders!']\n",
            "Of all fruits  Strawberry  Is my favourite\n",
            "HELLO, AND WELCOME CODERS!\n",
            "Hello, And Welcome Coders!\n",
            "sTRAWBERRY\n",
            "00000000000000My name is Simar\n",
            "False\n"
          ]
        }
      ]
    },
    {
      "cell_type": "code",
      "source": [
        "\"\"\"\n",
        "Q3: Significance of negative index value\n",
        "Ans: Negative index value refers to the elements of a list from the end. From the end, index starts with 1.\n",
        "\"\"\"\n",
        "l1=['2','6','66','23','34','88','34','35']\n",
        "print(l1[4])\n",
        "print(l1[0])\n",
        "print(l1[-3])"
      ],
      "metadata": {
        "colab": {
          "base_uri": "https://localhost:8080/"
        },
        "id": "L2bjwUcYAbHm",
        "outputId": "d9e06eb3-8115-446b-c680-474e91e40a5c"
      },
      "execution_count": null,
      "outputs": [
        {
          "output_type": "stream",
          "name": "stdout",
          "text": [
            "34\n",
            "2\n",
            "88\n"
          ]
        }
      ]
    }
  ]
}