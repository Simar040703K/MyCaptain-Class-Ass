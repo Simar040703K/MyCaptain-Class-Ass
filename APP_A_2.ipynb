{
  "nbformat": 4,
  "nbformat_minor": 0,
  "metadata": {
    "colab": {
      "name": "APP A 2.ipynb",
      "provenance": [],
      "authorship_tag": "ABX9TyPP2LZrUBYhz3MUF8llkEDa",
      "include_colab_link": true
    },
    "kernelspec": {
      "name": "python3",
      "display_name": "Python 3"
    },
    "language_info": {
      "name": "python"
    }
  },
  "cells": [
    {
      "cell_type": "markdown",
      "metadata": {
        "id": "view-in-github",
        "colab_type": "text"
      },
      "source": [
        "<a href=\"https://colab.research.google.com/github/Simar040703K/MyCaptain-Class-Ass/blob/main/APP_A_2.ipynb\" target=\"_parent\"><img src=\"https://colab.research.google.com/assets/colab-badge.svg\" alt=\"Open In Colab\"/></a>"
      ]
    },
    {
      "cell_type": "code",
      "execution_count": 4,
      "metadata": {
        "colab": {
          "base_uri": "https://localhost:8080/"
        },
        "id": "c_zwsBshPsx6",
        "outputId": "1d78775e-e88b-4fde-b980-78ff9c55696b"
      },
      "outputs": [
        {
          "output_type": "stream",
          "name": "stdout",
          "text": [
            "0\n",
            "1\n",
            "1\n",
            "2\n",
            "3\n",
            "5\n",
            "8\n",
            "13\n",
            "21\n",
            "34\n",
            "55\n",
            "89\n",
            "144\n"
          ]
        }
      ],
      "source": [
        "# MyCaptain APP ASSIGNMENT 2\n",
        "#Q1: WRITE A PYTHON PROGRAM FOR FIBONACCI SERIES.\n",
        "a=0\n",
        "b=1\n",
        "num=2\n",
        "print(a)\n",
        "print(b)\n",
        "while num<13:\n",
        "  c=a+b\n",
        "  print(c)\n",
        "  a=b\n",
        "  b=c\n",
        "  num+=1"
      ]
    }
  ]
}