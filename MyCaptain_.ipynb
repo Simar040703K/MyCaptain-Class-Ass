{
  "nbformat": 4,
  "nbformat_minor": 0,
  "metadata": {
    "colab": {
      "name": "MyCaptain .ipynb",
      "provenance": [],
      "authorship_tag": "ABX9TyNk4SVSoHSUQkcQQP6GxIdf",
      "include_colab_link": true
    },
    "kernelspec": {
      "name": "python3",
      "display_name": "Python 3"
    },
    "language_info": {
      "name": "python"
    }
  },
  "cells": [
    {
      "cell_type": "markdown",
      "metadata": {
        "id": "view-in-github",
        "colab_type": "text"
      },
      "source": [
        "<a href=\"https://colab.research.google.com/github/Simar040703K/MyCaptain-Class-Ass/blob/main/MyCaptain_.ipynb\" target=\"_parent\"><img src=\"https://colab.research.google.com/assets/colab-badge.svg\" alt=\"Open In Colab\"/></a>"
      ]
    },
    {
      "cell_type": "code",
      "execution_count": null,
      "metadata": {
        "colab": {
          "base_uri": "https://localhost:8080/",
          "height": 35
        },
        "id": "chYHQYOWJPmg",
        "outputId": "e97728c9-002d-4040-c1a1-1b74f954064c"
      },
      "outputs": [
        {
          "output_type": "execute_result",
          "data": {
            "application/vnd.google.colaboratory.intrinsic+json": {
              "type": "string"
            },
            "text/plain": [
              "'\\nQ1: Why do we have the name Float?\\nAns: \\n\\n'"
            ]
          },
          "metadata": {},
          "execution_count": 1
        }
      ],
      "source": [
        "# Assignment : Live Session 2\n",
        "\"\"\"\n",
        "Q1: Why do we have the name Float?\n",
        "Ans: Float is the data type for decimal.\n",
        "In programming languages, the term 'Float' is used for numbers with decimal point. \n",
        "\"\"\""
      ]
    },
    {
      "cell_type": "code",
      "source": [
        "\"\"\"\n",
        "Q2: Use Terminal to open apps (Write the commands)\n",
        "\n",
        "\n",
        "\"\"\""
      ],
      "metadata": {
        "id": "tc1l7n_aPLIt"
      },
      "execution_count": null,
      "outputs": []
    },
    {
      "cell_type": "code",
      "source": [
        "#Q3: Practice all the arithmetic operators with four different sets of values.\n",
        "\"\"\"\n",
        "a=10\n",
        "b=5\n",
        "\n",
        "a= 10\n",
        "b=20\n",
        "\n",
        "a=0\n",
        "b=8\n",
        "\"\"\"\n",
        "a=9\n",
        "b=5\n",
        "\n",
        "\n",
        "s=a+b          #1: to add two numbers\n",
        "d=a-b          #2: to subtract two numbers\n",
        "p=a*b          #3: to multiply two numbers\n",
        "q=a/b          #4: to divide two numbers & get quotient in float format\n",
        "fl=a//b        #5: to divide two numbers & get quotient in int format\n",
        "r=a%b          #6: to divide two numbers & get remainder\n",
        "e=a**b         #7: to raise one number to the power of another\n",
        "\n",
        "print('Sum = ',s)\n",
        "print('Difference = ',d)\n",
        "print('Product = ',p)\n",
        "print('Quotient (in int format) = ',fl)\n",
        "print('Quotient (in float format) = ',q)\n",
        "print('Remainder = ',r)\n",
        "print('Exponentiation = ',e)"
      ],
      "metadata": {
        "colab": {
          "base_uri": "https://localhost:8080/"
        },
        "id": "JQoXccQKxQiR",
        "outputId": "d29525b3-90f1-48c0-fce9-9bd85d49eeaf"
      },
      "execution_count": null,
      "outputs": [
        {
          "output_type": "stream",
          "name": "stdout",
          "text": [
            "Sum =  14\n",
            "Difference =  4\n",
            "Product =  45\n",
            "Quotient (in int format) =  1\n",
            "Quotient (in float format) =  1.8\n",
            "Remainder =  4\n",
            "Exponentiation =  59049\n"
          ]
        }
      ]
    },
    {
      "cell_type": "code",
      "source": [
        "\"\"\"Q4: Complete area of circle assignment in MYCaptain app:\n",
        "Write a Python program to accept radius of circle from user and compute the area. \"\"\"\n",
        "rad=int(input('Enter value of radius : '))\n",
        "ar=(3.14*rad*rad)\n",
        "print('Area of circle is ',ar)"
      ],
      "metadata": {
        "colab": {
          "base_uri": "https://localhost:8080/"
        },
        "id": "cQbTkom7zmHw",
        "outputId": "f70ebe35-9564-498a-ec8b-4a118c4a4d74"
      },
      "execution_count": null,
      "outputs": [
        {
          "output_type": "stream",
          "name": "stdout",
          "text": [
            "Enter value of radius : 7\n",
            "Area of circle is  153.86\n"
          ]
        }
      ]
    }
  ]
}